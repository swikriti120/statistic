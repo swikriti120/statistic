{
  "nbformat": 4,
  "nbformat_minor": 0,
  "metadata": {
    "colab": {
      "provenance": []
    },
    "kernelspec": {
      "name": "python3",
      "display_name": "Python 3"
    },
    "language_info": {
      "name": "python"
    }
  },
  "cells": [
    {
      "cell_type": "code",
      "execution_count": null,
      "metadata": {
        "id": "q6rF38sB_070"
      },
      "outputs": [],
      "source": []
    },
    {
      "cell_type": "markdown",
      "source": [
        "1. stats\n",
        "2 answer\n",
        "- hi this is assgn\n"
      ],
      "metadata": {
        "id": "LBjeY-q6AJZL"
      }
    },
    {
      "cell_type": "code",
      "source": [
        "#python 1\n"
      ],
      "metadata": {
        "id": "ri0cqyEcAs-Z"
      },
      "execution_count": null,
      "outputs": []
    }
  ]
}